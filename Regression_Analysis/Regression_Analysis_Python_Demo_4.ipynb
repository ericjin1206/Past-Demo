{
 "cells": [
  {
   "cell_type": "markdown",
   "id": "1e300060",
   "metadata": {},
   "source": [
    "## Problem Set 4"
   ]
  },
  {
   "cell_type": "code",
   "execution_count": 1,
   "id": "243b1479",
   "metadata": {},
   "outputs": [],
   "source": [
    "import pandas as pd\n",
    "import matplotlib.pyplot as plt\n",
    "import numpy as np\n",
    "import statsmodels.api as sm\n",
    "import statsmodels.formula.api as smf"
   ]
  },
  {
   "cell_type": "markdown",
   "id": "d90398ca",
   "metadata": {},
   "source": [
    "### 1.1 Question 1"
   ]
  },
  {
   "cell_type": "code",
   "execution_count": 2,
   "id": "068895ee",
   "metadata": {},
   "outputs": [
    {
     "data": {
      "text/html": [
       "<div>\n",
       "<style scoped>\n",
       "    .dataframe tbody tr th:only-of-type {\n",
       "        vertical-align: middle;\n",
       "    }\n",
       "\n",
       "    .dataframe tbody tr th {\n",
       "        vertical-align: top;\n",
       "    }\n",
       "\n",
       "    .dataframe thead th {\n",
       "        text-align: right;\n",
       "    }\n",
       "</style>\n",
       "<table border=\"1\" class=\"dataframe\">\n",
       "  <thead>\n",
       "    <tr style=\"text-align: right;\">\n",
       "      <th></th>\n",
       "      <th>revenue</th>\n",
       "      <th>treatment</th>\n",
       "      <th>demographic_1</th>\n",
       "      <th>demographic_2</th>\n",
       "      <th>demographic_3</th>\n",
       "      <th>demographic_4</th>\n",
       "      <th>demographic_5</th>\n",
       "      <th>demographic_6</th>\n",
       "      <th>demographic_7</th>\n",
       "      <th>demographic_8</th>\n",
       "      <th>...</th>\n",
       "      <th>demographic_21</th>\n",
       "      <th>demographic_22</th>\n",
       "      <th>demographic_23</th>\n",
       "      <th>demographic_24</th>\n",
       "      <th>demographic_25</th>\n",
       "      <th>demographic_26</th>\n",
       "      <th>demographic_27</th>\n",
       "      <th>demographic_28</th>\n",
       "      <th>demographic_29</th>\n",
       "      <th>demographic_30</th>\n",
       "    </tr>\n",
       "  </thead>\n",
       "  <tbody>\n",
       "    <tr>\n",
       "      <th>0</th>\n",
       "      <td>5.504899</td>\n",
       "      <td>0</td>\n",
       "      <td>1</td>\n",
       "      <td>1</td>\n",
       "      <td>1</td>\n",
       "      <td>0</td>\n",
       "      <td>0</td>\n",
       "      <td>1</td>\n",
       "      <td>1</td>\n",
       "      <td>1</td>\n",
       "      <td>...</td>\n",
       "      <td>1</td>\n",
       "      <td>1</td>\n",
       "      <td>1</td>\n",
       "      <td>1</td>\n",
       "      <td>0</td>\n",
       "      <td>1</td>\n",
       "      <td>1</td>\n",
       "      <td>1</td>\n",
       "      <td>0</td>\n",
       "      <td>1</td>\n",
       "    </tr>\n",
       "    <tr>\n",
       "      <th>1</th>\n",
       "      <td>5.554275</td>\n",
       "      <td>1</td>\n",
       "      <td>0</td>\n",
       "      <td>1</td>\n",
       "      <td>1</td>\n",
       "      <td>0</td>\n",
       "      <td>0</td>\n",
       "      <td>0</td>\n",
       "      <td>1</td>\n",
       "      <td>0</td>\n",
       "      <td>...</td>\n",
       "      <td>0</td>\n",
       "      <td>0</td>\n",
       "      <td>0</td>\n",
       "      <td>1</td>\n",
       "      <td>1</td>\n",
       "      <td>0</td>\n",
       "      <td>1</td>\n",
       "      <td>1</td>\n",
       "      <td>1</td>\n",
       "      <td>0</td>\n",
       "    </tr>\n",
       "    <tr>\n",
       "      <th>2</th>\n",
       "      <td>5.219492</td>\n",
       "      <td>0</td>\n",
       "      <td>0</td>\n",
       "      <td>1</td>\n",
       "      <td>1</td>\n",
       "      <td>0</td>\n",
       "      <td>0</td>\n",
       "      <td>1</td>\n",
       "      <td>1</td>\n",
       "      <td>1</td>\n",
       "      <td>...</td>\n",
       "      <td>0</td>\n",
       "      <td>1</td>\n",
       "      <td>0</td>\n",
       "      <td>1</td>\n",
       "      <td>0</td>\n",
       "      <td>1</td>\n",
       "      <td>1</td>\n",
       "      <td>0</td>\n",
       "      <td>0</td>\n",
       "      <td>1</td>\n",
       "    </tr>\n",
       "    <tr>\n",
       "      <th>3</th>\n",
       "      <td>4.565855</td>\n",
       "      <td>0</td>\n",
       "      <td>1</td>\n",
       "      <td>0</td>\n",
       "      <td>0</td>\n",
       "      <td>0</td>\n",
       "      <td>1</td>\n",
       "      <td>1</td>\n",
       "      <td>0</td>\n",
       "      <td>1</td>\n",
       "      <td>...</td>\n",
       "      <td>1</td>\n",
       "      <td>0</td>\n",
       "      <td>0</td>\n",
       "      <td>1</td>\n",
       "      <td>0</td>\n",
       "      <td>1</td>\n",
       "      <td>0</td>\n",
       "      <td>0</td>\n",
       "      <td>1</td>\n",
       "      <td>0</td>\n",
       "    </tr>\n",
       "    <tr>\n",
       "      <th>4</th>\n",
       "      <td>5.020636</td>\n",
       "      <td>0</td>\n",
       "      <td>1</td>\n",
       "      <td>1</td>\n",
       "      <td>0</td>\n",
       "      <td>1</td>\n",
       "      <td>0</td>\n",
       "      <td>0</td>\n",
       "      <td>1</td>\n",
       "      <td>1</td>\n",
       "      <td>...</td>\n",
       "      <td>1</td>\n",
       "      <td>1</td>\n",
       "      <td>0</td>\n",
       "      <td>0</td>\n",
       "      <td>1</td>\n",
       "      <td>1</td>\n",
       "      <td>0</td>\n",
       "      <td>0</td>\n",
       "      <td>0</td>\n",
       "      <td>1</td>\n",
       "    </tr>\n",
       "  </tbody>\n",
       "</table>\n",
       "<p>5 rows × 32 columns</p>\n",
       "</div>"
      ],
      "text/plain": [
       "    revenue  treatment  demographic_1  demographic_2  demographic_3  \\\n",
       "0  5.504899          0              1              1              1   \n",
       "1  5.554275          1              0              1              1   \n",
       "2  5.219492          0              0              1              1   \n",
       "3  4.565855          0              1              0              0   \n",
       "4  5.020636          0              1              1              0   \n",
       "\n",
       "   demographic_4  demographic_5  demographic_6  demographic_7  demographic_8  \\\n",
       "0              0              0              1              1              1   \n",
       "1              0              0              0              1              0   \n",
       "2              0              0              1              1              1   \n",
       "3              0              1              1              0              1   \n",
       "4              1              0              0              1              1   \n",
       "\n",
       "   ...  demographic_21  demographic_22  demographic_23  demographic_24  \\\n",
       "0  ...               1               1               1               1   \n",
       "1  ...               0               0               0               1   \n",
       "2  ...               0               1               0               1   \n",
       "3  ...               1               0               0               1   \n",
       "4  ...               1               1               0               0   \n",
       "\n",
       "   demographic_25  demographic_26  demographic_27  demographic_28  \\\n",
       "0               0               1               1               1   \n",
       "1               1               0               1               1   \n",
       "2               0               1               1               0   \n",
       "3               0               1               0               0   \n",
       "4               1               1               0               0   \n",
       "\n",
       "   demographic_29  demographic_30  \n",
       "0               0               1  \n",
       "1               1               0  \n",
       "2               0               1  \n",
       "3               1               0  \n",
       "4               0               1  \n",
       "\n",
       "[5 rows x 32 columns]"
      ]
     },
     "execution_count": 2,
     "metadata": {},
     "output_type": "execute_result"
    }
   ],
   "source": [
    "df = pd.read_csv(\"/Users/zhengyaojin/Desktop/ad_heterog.csv\")\n",
    "df.head()"
   ]
  },
  {
   "cell_type": "code",
   "execution_count": 3,
   "id": "af273bf5",
   "metadata": {},
   "outputs": [
    {
     "name": "stdout",
     "output_type": "stream",
     "text": [
      "                            OLS Regression Results                            \n",
      "==============================================================================\n",
      "Dep. Variable:                revenue   R-squared:                       0.281\n",
      "Model:                            OLS   Adj. R-squared:                  0.280\n",
      "Method:                 Least Squares   F-statistic:                     779.2\n",
      "Date:                Sat, 16 Mar 2024   Prob (F-statistic):          4.50e-145\n",
      "Time:                        19:19:14   Log-Likelihood:                -1532.5\n",
      "No. Observations:                2000   AIC:                             3069.\n",
      "Df Residuals:                    1998   BIC:                             3080.\n",
      "Df Model:                           1                                         \n",
      "Covariance Type:            nonrobust                                         \n",
      "==============================================================================\n",
      "                 coef    std err          t      P>|t|      [0.025      0.975]\n",
      "------------------------------------------------------------------------------\n",
      "Intercept      5.1082      0.016    315.942      0.000       5.076       5.140\n",
      "treatment      0.6508      0.023     27.915      0.000       0.605       0.696\n",
      "==============================================================================\n",
      "Omnibus:                        2.797   Durbin-Watson:                   1.989\n",
      "Prob(Omnibus):                  0.247   Jarque-Bera (JB):                2.981\n",
      "Skew:                          -0.010   Prob(JB):                        0.225\n",
      "Kurtosis:                       3.188   Cond. No.                         2.58\n",
      "==============================================================================\n",
      "\n",
      "Notes:\n",
      "[1] Standard Errors assume that the covariance matrix of the errors is correctly specified.\n"
     ]
    }
   ],
   "source": [
    "simple_model = smf.ols(formula = 'revenue ~ treatment', data = df).fit()\n",
    "print(simple_model.summary())"
   ]
  },
  {
   "cell_type": "markdown",
   "id": "f2ff031c",
   "metadata": {},
   "source": [
    "### Interpretation:\n",
    "\n",
    "Intercept: This represents the average revenue for the control group, which is 5.1082 units. This is significant as shown by the small p-value. \n",
    "\n",
    "Treatment: This shows that for each unit increase in treatment, revenue is expected to increase by 0.6508 units. In other words, this represents the incremental effect of the treatment with respect to the treatment group. This is also statistically significant as manifested by the small p-value."
   ]
  },
  {
   "cell_type": "markdown",
   "id": "733e4c66",
   "metadata": {},
   "source": [
    "### 1.1 Question 2"
   ]
  },
  {
   "cell_type": "markdown",
   "id": "6137a37d",
   "metadata": {},
   "source": [
    "I would not show the ads because the incremental value is 0.6508, which is less than 0.7 dollars, the cost of showing the ads. "
   ]
  },
  {
   "cell_type": "markdown",
   "id": "47c4ec54",
   "metadata": {},
   "source": [
    "### 2. Question 1"
   ]
  },
  {
   "cell_type": "code",
   "execution_count": 4,
   "id": "fde13eaa",
   "metadata": {},
   "outputs": [],
   "source": [
    "# extract columns pertaining to demographic information (all columns except first two)\n",
    "demo_matrix = df.iloc[:,2:]\n",
    "\n",
    "# generate interactions of each demographic variable with the treatment variable\n",
    "demo_treat_matrix = demo_matrix.multiply(df['treatment'], axis=\"index\")\n",
    "demo_treat_matrix.columns = demo_treat_matrix.columns.str.replace(\"demographic\", \"treat_demo\")\n",
    "\n",
    "# generate treatment variable that is outside of data-frame (useful below)\n",
    "treatment = df['treatment']\n"
   ]
  },
  {
   "cell_type": "code",
   "execution_count": 5,
   "id": "f3251012",
   "metadata": {},
   "outputs": [],
   "source": [
    "from scipy import sparse\n",
    "from sklearn import linear_model\n",
    "from sklearn.preprocessing import scale \n",
    "from sklearn.model_selection import train_test_split\n",
    "from sklearn.linear_model import LassoCV\n",
    "from sklearn.metrics import mean_squared_error\n",
    "from sklearn.preprocessing import StandardScaler"
   ]
  },
  {
   "cell_type": "code",
   "execution_count": 7,
   "id": "59a4343c",
   "metadata": {},
   "outputs": [
    {
     "data": {
      "image/png": "[encoded data removed]",
      "text/plain": [
       "<Figure size 640x480 with 1 Axes>"
      ]
     },
     "metadata": {},
     "output_type": "display_data"
    }
   ],
   "source": [
    "# X variables\n",
    "x = sparse.csc_matrix(pd.concat([treatment, demo_treat_matrix], axis=1))\n",
    "# Y variable \n",
    "Y = df[\"revenue\"]\n",
    "coefs = []\n",
    "n_alphas = 200\n",
    "alphas = np.logspace(-4, 0, n_alphas)\n",
    "for a in alphas:\n",
    "    lasso = linear_model.Lasso(alpha=a)\n",
    "    lasso.fit(x, Y)\n",
    "    coefs.append(lasso.coef_)\n",
    "\n",
    "# Show the plot\n",
    "ax = plt.gca()\n",
    "ax.plot(alphas, coefs)\n",
    "ax.set_xscale(\"log\")\n",
    "plt.xlabel(\"$\\log(\\lambda)$\")\n",
    "plt.ylabel(\"weights\")\n",
    "plt.title(\"Lasso coefficients as a function of regularization\") \n",
    "plt.axis(\"tight\")\n",
    "plt.show()"
   ]
  },
  {
   "cell_type": "markdown",
   "id": "4388b907",
   "metadata": {},
   "source": [
    "Answer: In the context of a Lasso regression model that utilizes a matrix of treatment and interaction terms, the non-monotonic patterns observed in the coefficients could stem from the interactions between the treatment and other variables in the model. At the outset, there's an increase in the importance of a particular coefficient as the model accentuates it, simultaneously reducing others to zero. As lambda decreases, which broadens the spectrum of variables included in the model, this heightened emphasis begins to diminish. The dynamics between the coefficient highlighted by the blue line and other variables can shift the significance of certain variables as the penalty parameter is modified, leading to the coefficients demonstrating non-monotonic movements."
   ]
  },
  {
   "cell_type": "markdown",
   "id": "2c3d35a9",
   "metadata": {},
   "source": [
    "### 2. Question 2"
   ]
  },
  {
   "cell_type": "code",
   "execution_count": 8,
   "id": "c85f06bd",
   "metadata": {},
   "outputs": [
    {
     "data": {
      "text/html": [
       "<style>#sk-container-id-1 {color: black;background-color: white;}#sk-container-id-1 pre{padding: 0;}#sk-container-id-1 div.sk-toggleable {background-color: white;}#sk-container-id-1 label.sk-toggleable__label {cursor: pointer;display: block;width: 100%;margin-bottom: 0;padding: 0.3em;box-sizing: border-box;text-align: center;}#sk-container-id-1 label.sk-toggleable__label-arrow:before {content: \"▸\";float: left;margin-right: 0.25em;color: #696969;}#sk-container-id-1 label.sk-toggleable__label-arrow:hover:before {color: black;}#sk-container-id-1 div.sk-estimator:hover label.sk-toggleable__label-arrow:before {color: black;}#sk-container-id-1 div.sk-toggleable__content {max-height: 0;max-width: 0;overflow: hidden;text-align: left;background-color: #f0f8ff;}#sk-container-id-1 div.sk-toggleable__content pre {margin: 0.2em;color: black;border-radius: 0.25em;background-color: #f0f8ff;}#sk-container-id-1 input.sk-toggleable__control:checked~div.sk-toggleable__content {max-height: 200px;max-width: 100%;overflow: auto;}#sk-container-id-1 input.sk-toggleable__control:checked~label.sk-toggleable__label-arrow:before {content: \"▾\";}#sk-container-id-1 div.sk-estimator input.sk-toggleable__control:checked~label.sk-toggleable__label {background-color: #d4ebff;}#sk-container-id-1 div.sk-label input.sk-toggleable__control:checked~label.sk-toggleable__label {background-color: #d4ebff;}#sk-container-id-1 input.sk-hidden--visually {border: 0;clip: rect(1px 1px 1px 1px);clip: rect(1px, 1px, 1px, 1px);height: 1px;margin: -1px;overflow: hidden;padding: 0;position: absolute;width: 1px;}#sk-container-id-1 div.sk-estimator {font-family: monospace;background-color: #f0f8ff;border: 1px dotted black;border-radius: 0.25em;box-sizing: border-box;margin-bottom: 0.5em;}#sk-container-id-1 div.sk-estimator:hover {background-color: #d4ebff;}#sk-container-id-1 div.sk-parallel-item::after {content: \"\";width: 100%;border-bottom: 1px solid gray;flex-grow: 1;}#sk-container-id-1 div.sk-label:hover label.sk-toggleable__label {background-color: #d4ebff;}#sk-container-id-1 div.sk-serial::before {content: \"\";position: absolute;border-left: 1px solid gray;box-sizing: border-box;top: 0;bottom: 0;left: 50%;z-index: 0;}#sk-container-id-1 div.sk-serial {display: flex;flex-direction: column;align-items: center;background-color: white;padding-right: 0.2em;padding-left: 0.2em;position: relative;}#sk-container-id-1 div.sk-item {position: relative;z-index: 1;}#sk-container-id-1 div.sk-parallel {display: flex;align-items: stretch;justify-content: center;background-color: white;position: relative;}#sk-container-id-1 div.sk-item::before, #sk-container-id-1 div.sk-parallel-item::before {content: \"\";position: absolute;border-left: 1px solid gray;box-sizing: border-box;top: 0;bottom: 0;left: 50%;z-index: -1;}#sk-container-id-1 div.sk-parallel-item {display: flex;flex-direction: column;z-index: 1;position: relative;background-color: white;}#sk-container-id-1 div.sk-parallel-item:first-child::after {align-self: flex-end;width: 50%;}#sk-container-id-1 div.sk-parallel-item:last-child::after {align-self: flex-start;width: 50%;}#sk-container-id-1 div.sk-parallel-item:only-child::after {width: 0;}#sk-container-id-1 div.sk-dashed-wrapped {border: 1px dashed gray;margin: 0 0.4em 0.5em 0.4em;box-sizing: border-box;padding-bottom: 0.4em;background-color: white;}#sk-container-id-1 div.sk-label label {font-family: monospace;font-weight: bold;display: inline-block;line-height: 1.2em;}#sk-container-id-1 div.sk-label-container {text-align: center;}#sk-container-id-1 div.sk-container {/* jupyter's `normalize.less` sets `[hidden] { display: none; }` but bootstrap.min.css set `[hidden] { display: none !important; }` so we also need the `!important` here to be able to override the default hidden behavior on the sphinx rendered scikit-learn.org. See: https://github.com/scikit-learn/scikit-learn/issues/21755 */display: inline-block !important;position: relative;}#sk-container-id-1 div.sk-text-repr-fallback {display: none;}</style><div id=\"sk-container-id-1\" class=\"sk-top-container\"><div class=\"sk-text-repr-fallback\"><pre>LassoCV(cv=10, max_iter=10000)</pre><b>In a Jupyter environment, please rerun this cell to show the HTML representation or trust the notebook. <br />On GitHub, the HTML representation is unable to render, please try loading this page with nbviewer.org.</b></div><div class=\"sk-container\" hidden><div class=\"sk-item\"><div class=\"sk-estimator sk-toggleable\"><input class=\"sk-toggleable__control sk-hidden--visually\" id=\"sk-estimator-id-1\" type=\"checkbox\" checked><label for=\"sk-estimator-id-1\" class=\"sk-toggleable__label sk-toggleable__label-arrow\">LassoCV</label><div class=\"sk-toggleable__content\"><pre>LassoCV(cv=10, max_iter=10000)</pre></div></div></div></div></div>"
      ],
      "text/plain": [
       "LassoCV(cv=10, max_iter=10000)"
      ]
     },
     "execution_count": 8,
     "metadata": {},
     "output_type": "execute_result"
    }
   ],
   "source": [
    "nfolds  = 10\n",
    "lassocv = LassoCV(alphas = None, cv = nfolds, max_iter = 10000)\n",
    "lassocv.fit(x,Y)"
   ]
  },
  {
   "cell_type": "code",
   "execution_count": 10,
   "id": "b2ba13cc",
   "metadata": {},
   "outputs": [],
   "source": [
    "# obtaining the coefficients that are not zero and return them\n",
    "def get_coef(lasso,scale,coeffnames):\n",
    "    coefficients = np.append(lasso.intercept_, lasso.coef_) \n",
    "    coeffnames = coeffnames[coefficients != 0]\n",
    "    coeffvalues = coefficients[coefficients != 0]\n",
    "    return pd.DataFrame([coeffnames, coeffvalues]).T"
   ]
  },
  {
   "cell_type": "code",
   "execution_count": 18,
   "id": "f8d92194",
   "metadata": {},
   "outputs": [
    {
     "data": {
      "text/html": [
       "<div>\n",
       "<style scoped>\n",
       "    .dataframe tbody tr th:only-of-type {\n",
       "        vertical-align: middle;\n",
       "    }\n",
       "\n",
       "    .dataframe tbody tr th {\n",
       "        vertical-align: top;\n",
       "    }\n",
       "\n",
       "    .dataframe thead th {\n",
       "        text-align: right;\n",
       "    }\n",
       "</style>\n",
       "<table border=\"1\" class=\"dataframe\">\n",
       "  <thead>\n",
       "    <tr style=\"text-align: right;\">\n",
       "      <th></th>\n",
       "      <th>0</th>\n",
       "      <th>1</th>\n",
       "    </tr>\n",
       "  </thead>\n",
       "  <tbody>\n",
       "    <tr>\n",
       "      <th>0</th>\n",
       "      <td>(Intercept)</td>\n",
       "      <td>5.117759</td>\n",
       "    </tr>\n",
       "    <tr>\n",
       "      <th>1</th>\n",
       "      <td>treatment</td>\n",
       "      <td>0.280851</td>\n",
       "    </tr>\n",
       "    <tr>\n",
       "      <th>2</th>\n",
       "      <td>treat_demo_1</td>\n",
       "      <td>0.114795</td>\n",
       "    </tr>\n",
       "    <tr>\n",
       "      <th>3</th>\n",
       "      <td>treat_demo_3</td>\n",
       "      <td>0.158607</td>\n",
       "    </tr>\n",
       "    <tr>\n",
       "      <th>4</th>\n",
       "      <td>treat_demo_7</td>\n",
       "      <td>0.128264</td>\n",
       "    </tr>\n",
       "    <tr>\n",
       "      <th>5</th>\n",
       "      <td>treat_demo_9</td>\n",
       "      <td>0.040007</td>\n",
       "    </tr>\n",
       "    <tr>\n",
       "      <th>6</th>\n",
       "      <td>treat_demo_16</td>\n",
       "      <td>0.006887</td>\n",
       "    </tr>\n",
       "    <tr>\n",
       "      <th>7</th>\n",
       "      <td>treat_demo_18</td>\n",
       "      <td>0.022377</td>\n",
       "    </tr>\n",
       "    <tr>\n",
       "      <th>8</th>\n",
       "      <td>treat_demo_20</td>\n",
       "      <td>0.012228</td>\n",
       "    </tr>\n",
       "    <tr>\n",
       "      <th>9</th>\n",
       "      <td>treat_demo_22</td>\n",
       "      <td>0.041163</td>\n",
       "    </tr>\n",
       "    <tr>\n",
       "      <th>10</th>\n",
       "      <td>treat_demo_23</td>\n",
       "      <td>0.024366</td>\n",
       "    </tr>\n",
       "    <tr>\n",
       "      <th>11</th>\n",
       "      <td>treat_demo_25</td>\n",
       "      <td>0.097902</td>\n",
       "    </tr>\n",
       "    <tr>\n",
       "      <th>12</th>\n",
       "      <td>treat_demo_27</td>\n",
       "      <td>0.010894</td>\n",
       "    </tr>\n",
       "    <tr>\n",
       "      <th>13</th>\n",
       "      <td>treat_demo_28</td>\n",
       "      <td>0.039004</td>\n",
       "    </tr>\n",
       "    <tr>\n",
       "      <th>14</th>\n",
       "      <td>treat_demo_30</td>\n",
       "      <td>0.008116</td>\n",
       "    </tr>\n",
       "  </tbody>\n",
       "</table>\n",
       "</div>"
      ],
      "text/plain": [
       "                0         1\n",
       "0     (Intercept)  5.117759\n",
       "1       treatment  0.280851\n",
       "2    treat_demo_1  0.114795\n",
       "3    treat_demo_3  0.158607\n",
       "4    treat_demo_7  0.128264\n",
       "5    treat_demo_9  0.040007\n",
       "6   treat_demo_16  0.006887\n",
       "7   treat_demo_18  0.022377\n",
       "8   treat_demo_20  0.012228\n",
       "9   treat_demo_22  0.041163\n",
       "10  treat_demo_23  0.024366\n",
       "11  treat_demo_25  0.097902\n",
       "12  treat_demo_27  0.010894\n",
       "13  treat_demo_28  0.039004\n",
       "14  treat_demo_30  0.008116"
      ]
     },
     "execution_count": 18,
     "metadata": {},
     "output_type": "execute_result"
    }
   ],
   "source": [
    "combined_col = pd.concat([treatment, demo_treat_matrix], axis=1).columns\n",
    "coeff_names = ['(Intercept)'] + list(combined_col)\n",
    "coeff_names_array = np.array(coeff_names)\n",
    "coefficients = get_coef(lassocv, 1, coeff_names_array)\n",
    "coefficients\n"
   ]
  },
  {
   "cell_type": "markdown",
   "id": "49fe3f11",
   "metadata": {},
   "source": [
    "The interaction term coefficients indicate the varied responses to the treatment among each demographic group compared to the base group. From the results presented, it is evident that all mentioned demographic groups exhibit a more positive reaction to the treatment than the base groups do. The result suggests that we should focus our advertising efforts on the identified demographic areas due to the notable rise in revenue observed there, while advising against investing in advertising in locations that were not selected."
   ]
  },
  {
   "cell_type": "markdown",
   "id": "566fcfb0",
   "metadata": {},
   "source": [
    "### 3. Question 1"
   ]
  },
  {
   "cell_type": "code",
   "execution_count": 23,
   "id": "8ce23297",
   "metadata": {},
   "outputs": [
    {
     "data": {
      "text/html": [
       "<style>#sk-container-id-4 {color: black;background-color: white;}#sk-container-id-4 pre{padding: 0;}#sk-container-id-4 div.sk-toggleable {background-color: white;}#sk-container-id-4 label.sk-toggleable__label {cursor: pointer;display: block;width: 100%;margin-bottom: 0;padding: 0.3em;box-sizing: border-box;text-align: center;}#sk-container-id-4 label.sk-toggleable__label-arrow:before {content: \"▸\";float: left;margin-right: 0.25em;color: #696969;}#sk-container-id-4 label.sk-toggleable__label-arrow:hover:before {color: black;}#sk-container-id-4 div.sk-estimator:hover label.sk-toggleable__label-arrow:before {color: black;}#sk-container-id-4 div.sk-toggleable__content {max-height: 0;max-width: 0;overflow: hidden;text-align: left;background-color: #f0f8ff;}#sk-container-id-4 div.sk-toggleable__content pre {margin: 0.2em;color: black;border-radius: 0.25em;background-color: #f0f8ff;}#sk-container-id-4 input.sk-toggleable__control:checked~div.sk-toggleable__content {max-height: 200px;max-width: 100%;overflow: auto;}#sk-container-id-4 input.sk-toggleable__control:checked~label.sk-toggleable__label-arrow:before {content: \"▾\";}#sk-container-id-4 div.sk-estimator input.sk-toggleable__control:checked~label.sk-toggleable__label {background-color: #d4ebff;}#sk-container-id-4 div.sk-label input.sk-toggleable__control:checked~label.sk-toggleable__label {background-color: #d4ebff;}#sk-container-id-4 input.sk-hidden--visually {border: 0;clip: rect(1px 1px 1px 1px);clip: rect(1px, 1px, 1px, 1px);height: 1px;margin: -1px;overflow: hidden;padding: 0;position: absolute;width: 1px;}#sk-container-id-4 div.sk-estimator {font-family: monospace;background-color: #f0f8ff;border: 1px dotted black;border-radius: 0.25em;box-sizing: border-box;margin-bottom: 0.5em;}#sk-container-id-4 div.sk-estimator:hover {background-color: #d4ebff;}#sk-container-id-4 div.sk-parallel-item::after {content: \"\";width: 100%;border-bottom: 1px solid gray;flex-grow: 1;}#sk-container-id-4 div.sk-label:hover label.sk-toggleable__label {background-color: #d4ebff;}#sk-container-id-4 div.sk-serial::before {content: \"\";position: absolute;border-left: 1px solid gray;box-sizing: border-box;top: 0;bottom: 0;left: 50%;z-index: 0;}#sk-container-id-4 div.sk-serial {display: flex;flex-direction: column;align-items: center;background-color: white;padding-right: 0.2em;padding-left: 0.2em;position: relative;}#sk-container-id-4 div.sk-item {position: relative;z-index: 1;}#sk-container-id-4 div.sk-parallel {display: flex;align-items: stretch;justify-content: center;background-color: white;position: relative;}#sk-container-id-4 div.sk-item::before, #sk-container-id-4 div.sk-parallel-item::before {content: \"\";position: absolute;border-left: 1px solid gray;box-sizing: border-box;top: 0;bottom: 0;left: 50%;z-index: -1;}#sk-container-id-4 div.sk-parallel-item {display: flex;flex-direction: column;z-index: 1;position: relative;background-color: white;}#sk-container-id-4 div.sk-parallel-item:first-child::after {align-self: flex-end;width: 50%;}#sk-container-id-4 div.sk-parallel-item:last-child::after {align-self: flex-start;width: 50%;}#sk-container-id-4 div.sk-parallel-item:only-child::after {width: 0;}#sk-container-id-4 div.sk-dashed-wrapped {border: 1px dashed gray;margin: 0 0.4em 0.5em 0.4em;box-sizing: border-box;padding-bottom: 0.4em;background-color: white;}#sk-container-id-4 div.sk-label label {font-family: monospace;font-weight: bold;display: inline-block;line-height: 1.2em;}#sk-container-id-4 div.sk-label-container {text-align: center;}#sk-container-id-4 div.sk-container {/* jupyter's `normalize.less` sets `[hidden] { display: none; }` but bootstrap.min.css set `[hidden] { display: none !important; }` so we also need the `!important` here to be able to override the default hidden behavior on the sphinx rendered scikit-learn.org. See: https://github.com/scikit-learn/scikit-learn/issues/21755 */display: inline-block !important;position: relative;}#sk-container-id-4 div.sk-text-repr-fallback {display: none;}</style><div id=\"sk-container-id-4\" class=\"sk-top-container\"><div class=\"sk-text-repr-fallback\"><pre>LassoCV(cv=10, max_iter=10000)</pre><b>In a Jupyter environment, please rerun this cell to show the HTML representation or trust the notebook. <br />On GitHub, the HTML representation is unable to render, please try loading this page with nbviewer.org.</b></div><div class=\"sk-container\" hidden><div class=\"sk-item\"><div class=\"sk-estimator sk-toggleable\"><input class=\"sk-toggleable__control sk-hidden--visually\" id=\"sk-estimator-id-4\" type=\"checkbox\" checked><label for=\"sk-estimator-id-4\" class=\"sk-toggleable__label sk-toggleable__label-arrow\">LassoCV</label><div class=\"sk-toggleable__content\"><pre>LassoCV(cv=10, max_iter=10000)</pre></div></div></div></div></div>"
      ],
      "text/plain": [
       "LassoCV(cv=10, max_iter=10000)"
      ]
     },
     "execution_count": 23,
     "metadata": {},
     "output_type": "execute_result"
    }
   ],
   "source": [
    "combined_df = pd.concat([treatment, demo_matrix, demo_treat_matrix], axis=1)\n",
    "x = sparse.csc_matrix(combined_df)\n",
    "\n",
    "# Run Lasso CV\n",
    "nfolds  = 10\n",
    "lassocv = LassoCV(alphas = None, cv = nfolds, max_iter = 10000) \n",
    "lassocv.fit(x,Y)"
   ]
  },
  {
   "cell_type": "code",
   "execution_count": 27,
   "id": "f2d4d174",
   "metadata": {},
   "outputs": [
    {
     "data": {
      "text/html": [
       "<div>\n",
       "<style scoped>\n",
       "    .dataframe tbody tr th:only-of-type {\n",
       "        vertical-align: middle;\n",
       "    }\n",
       "\n",
       "    .dataframe tbody tr th {\n",
       "        vertical-align: top;\n",
       "    }\n",
       "\n",
       "    .dataframe thead th {\n",
       "        text-align: right;\n",
       "    }\n",
       "</style>\n",
       "<table border=\"1\" class=\"dataframe\">\n",
       "  <thead>\n",
       "    <tr style=\"text-align: right;\">\n",
       "      <th></th>\n",
       "      <th>0</th>\n",
       "      <th>1</th>\n",
       "    </tr>\n",
       "  </thead>\n",
       "  <tbody>\n",
       "    <tr>\n",
       "      <th>0</th>\n",
       "      <td>(Intercept)</td>\n",
       "      <td>4.964982</td>\n",
       "    </tr>\n",
       "    <tr>\n",
       "      <th>1</th>\n",
       "      <td>treatment</td>\n",
       "      <td>0.454866</td>\n",
       "    </tr>\n",
       "    <tr>\n",
       "      <th>2</th>\n",
       "      <td>demographic_1</td>\n",
       "      <td>0.138043</td>\n",
       "    </tr>\n",
       "    <tr>\n",
       "      <th>3</th>\n",
       "      <td>demographic_2</td>\n",
       "      <td>-0.002787</td>\n",
       "    </tr>\n",
       "    <tr>\n",
       "      <th>4</th>\n",
       "      <td>demographic_7</td>\n",
       "      <td>0.016443</td>\n",
       "    </tr>\n",
       "    <tr>\n",
       "      <th>5</th>\n",
       "      <td>demographic_9</td>\n",
       "      <td>0.034156</td>\n",
       "    </tr>\n",
       "    <tr>\n",
       "      <th>6</th>\n",
       "      <td>demographic_11</td>\n",
       "      <td>-0.014056</td>\n",
       "    </tr>\n",
       "    <tr>\n",
       "      <th>7</th>\n",
       "      <td>demographic_22</td>\n",
       "      <td>0.032252</td>\n",
       "    </tr>\n",
       "    <tr>\n",
       "      <th>8</th>\n",
       "      <td>demographic_23</td>\n",
       "      <td>0.020893</td>\n",
       "    </tr>\n",
       "    <tr>\n",
       "      <th>9</th>\n",
       "      <td>demographic_25</td>\n",
       "      <td>0.068269</td>\n",
       "    </tr>\n",
       "    <tr>\n",
       "      <th>10</th>\n",
       "      <td>demographic_28</td>\n",
       "      <td>0.014102</td>\n",
       "    </tr>\n",
       "    <tr>\n",
       "      <th>11</th>\n",
       "      <td>treat_demo_3</td>\n",
       "      <td>0.154882</td>\n",
       "    </tr>\n",
       "    <tr>\n",
       "      <th>12</th>\n",
       "      <td>treat_demo_7</td>\n",
       "      <td>0.1073</td>\n",
       "    </tr>\n",
       "    <tr>\n",
       "      <th>13</th>\n",
       "      <td>treat_demo_9</td>\n",
       "      <td>0.002065</td>\n",
       "    </tr>\n",
       "    <tr>\n",
       "      <th>14</th>\n",
       "      <td>treat_demo_16</td>\n",
       "      <td>0.001452</td>\n",
       "    </tr>\n",
       "    <tr>\n",
       "      <th>15</th>\n",
       "      <td>treat_demo_18</td>\n",
       "      <td>0.017417</td>\n",
       "    </tr>\n",
       "    <tr>\n",
       "      <th>16</th>\n",
       "      <td>treat_demo_20</td>\n",
       "      <td>0.008345</td>\n",
       "    </tr>\n",
       "    <tr>\n",
       "      <th>17</th>\n",
       "      <td>treat_demo_22</td>\n",
       "      <td>0.004202</td>\n",
       "    </tr>\n",
       "    <tr>\n",
       "      <th>18</th>\n",
       "      <td>treat_demo_25</td>\n",
       "      <td>0.02532</td>\n",
       "    </tr>\n",
       "    <tr>\n",
       "      <th>19</th>\n",
       "      <td>treat_demo_27</td>\n",
       "      <td>0.006126</td>\n",
       "    </tr>\n",
       "    <tr>\n",
       "      <th>20</th>\n",
       "      <td>treat_demo_28</td>\n",
       "      <td>0.020187</td>\n",
       "    </tr>\n",
       "    <tr>\n",
       "      <th>21</th>\n",
       "      <td>treat_demo_30</td>\n",
       "      <td>0.003243</td>\n",
       "    </tr>\n",
       "  </tbody>\n",
       "</table>\n",
       "</div>"
      ],
      "text/plain": [
       "                 0         1\n",
       "0      (Intercept)  4.964982\n",
       "1        treatment  0.454866\n",
       "2    demographic_1  0.138043\n",
       "3    demographic_2 -0.002787\n",
       "4    demographic_7  0.016443\n",
       "5    demographic_9  0.034156\n",
       "6   demographic_11 -0.014056\n",
       "7   demographic_22  0.032252\n",
       "8   demographic_23  0.020893\n",
       "9   demographic_25  0.068269\n",
       "10  demographic_28  0.014102\n",
       "11    treat_demo_3  0.154882\n",
       "12    treat_demo_7    0.1073\n",
       "13    treat_demo_9  0.002065\n",
       "14   treat_demo_16  0.001452\n",
       "15   treat_demo_18  0.017417\n",
       "16   treat_demo_20  0.008345\n",
       "17   treat_demo_22  0.004202\n",
       "18   treat_demo_25   0.02532\n",
       "19   treat_demo_27  0.006126\n",
       "20   treat_demo_28  0.020187\n",
       "21   treat_demo_30  0.003243"
      ]
     },
     "execution_count": 27,
     "metadata": {},
     "output_type": "execute_result"
    }
   ],
   "source": [
    "coeff_name = list(pd.concat([treatment, demo_matrix, demo_treat_matrix], axis=1).columns)\n",
    "coeff_name.insert(0, '(Intercept)')\n",
    "coeff_name_array = np.array(coeff_name)\n",
    "coefficients = get_coef(lassocv, 1, coeff_name_array)\n",
    "coefficients"
   ]
  },
  {
   "cell_type": "markdown",
   "id": "451cc147",
   "metadata": {},
   "source": [
    "Answer: As for demographics 3, the treatment effect of 0.609768 is the treatment coefficient 0.454886 plus the coefficient for the interaction term 0.154882. But we cannot distinguish individuals that have same characteristics in the control group from the baseline, which is represented by the intercept, since the lasso regression did not pick the dummy for demographic_3 .\n",
    "\n",
    "For demographics 7, the treatment effect of 0.562186 is the sum of the treatment coefficient 0.454886 plus the coefficient for the interaction term 0.1073. Here we can compute both the predicted revenue for the control group and the treatment group for demo 7 since the lasso regression selected both the demographic_7 and the intersection term.\n",
    "\n"
   ]
  },
  {
   "cell_type": "markdown",
   "id": "077cb2fb",
   "metadata": {},
   "source": [
    "### 3. Question 2"
   ]
  },
  {
   "cell_type": "code",
   "execution_count": 69,
   "id": "6aab4ccf",
   "metadata": {},
   "outputs": [],
   "source": [
    "is_treated = df[\"treatment\"] >= 0\n",
    "treated_indicator = is_treated.astype(int)\n",
    "demo_treated = demo_matrix.multiply(treated_indicator, axis='index')\n",
    "demo_treated.rename(columns=lambda x: x.replace('demographic', 'treat_demo'), inplace=True)\n",
    "X_treated = sparse.csc_matrix(pd.concat([treated_indicator, demo_matrix, demo_treated], axis=1))\n",
    "\n",
    "untreated = (df[\"treatment\"] < 0).astype(int)\n",
    "demo_untreated = demo_matrix.multiply(untreated, axis='index')\n",
    "demo_untreated.columns = demo_untreated.columns.str.replace('demographic', 'treat_demo')\n",
    "X_untreated = sparse.csc_matrix(pd.concat([untreated, demo_matrix, demo_untreated], axis=1))\n",
    "\n",
    "df[\"treatment_rev\"] = lassocv.predict(X_treated)\n",
    "df[\"baseline_rev\"] = lassocv.predict(X_untreated)\n",
    "\n",
    "profit_threshold = 0.7$\n",
    "df[\"showad\"] = (df[\"treatment_rev\"] - df[\"baseline_rev\"]) > profit_threshold\n",
    "df[\"profit_without_ad\"] = df[\"treatment_rev\"] - df[\"baseline_rev\"] - profit_threshold\n",
    "df[\"profit_with_ad\"] = df[\"showad\"].astype(int) * df[\"profit_without_ad\"]"
   ]
  },
  {
   "cell_type": "code",
   "execution_count": 70,
   "id": "7ad129f4",
   "metadata": {},
   "outputs": [
    {
     "data": {
      "text/plain": [
       "-0.06826410916798291"
      ]
     },
     "execution_count": 70,
     "metadata": {},
     "output_type": "execute_result"
    }
   ],
   "source": [
    "# expected profit per consumer\n",
    "np.mean(df[\"profit_without_ad\"])"
   ]
  },
  {
   "cell_type": "code",
   "execution_count": 71,
   "id": "dc987224",
   "metadata": {},
   "outputs": [
    {
     "data": {
      "text/plain": [
       "0.01613243404540253"
      ]
     },
     "execution_count": 71,
     "metadata": {},
     "output_type": "execute_result"
    }
   ],
   "source": [
    "np.mean(df[\"profit_with_ad\"])"
   ]
  },
  {
   "cell_type": "markdown",
   "id": "e0ec79c6",
   "metadata": {},
   "source": [
    "Answer: The expected profit per customer when showing the ad to everyone is -0.0683 while the expected profit when only showing the ad to customers with positive expected profit is 0.0161"
   ]
  }
 ],
 "metadata": {
  "kernelspec": {
   "display_name": "Python 3 (ipykernel)",
   "language": "python",
   "name": "python3"
  },
  "language_info": {
   "codemirror_mode": {
    "name": "ipython",
    "version": 3
   },
   "file_extension": ".py",
   "mimetype": "text/x-python",
   "name": "python",
   "nbconvert_exporter": "python",
   "pygments_lexer": "ipython3",
   "version": "3.10.9"
  }
 },
 "nbformat": 4,
 "nbformat_minor": 5
}
