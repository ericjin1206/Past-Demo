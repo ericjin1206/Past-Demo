{
 "cells": [
  {
   "cell_type": "markdown",
   "id": "p2nN0fmpXiup",
   "metadata": {
    "id": "p2nN0fmpXiup"
   },
   "source": [
    "# RAG Implementation"
   ]
  },
  {
   "cell_type": "markdown",
   "id": "goLFk-_sXg24",
   "metadata": {
    "id": "goLFk-_sXg24"
   },
   "source": [
    "PDFs include Uber, Lyft, and United 10ks"
   ]
  },
  {
   "cell_type": "markdown",
   "id": "ee25b82b",
   "metadata": {
    "id": "ee25b82b"
   },
   "source": [
    "### Setup Azure OpenAI Client"
   ]
  },
  {
   "cell_type": "code",
   "execution_count": 1,
   "id": "e5df8217",
   "metadata": {
    "id": "e5df8217"
   },
   "outputs": [],
   "source": [
    "from openai import AzureOpenAI\n",
    "\n",
    "# Azure OpenAI Configuration\n",
    "AZURE_OPENAI_ENDPOINT = 'https://traversaal-ai-openai-urdu-llmam.openai.azure.com'#  #https://traversaal-ai-openai-urdu-llmam.openai.azure.com/openai/deployments/urdu-llama/chat/completions?api-version=2023-03-15-preview\n",
    "AZURE_OPENAI_KEY = '86b6c99a81434e6fa84ab397642ecf91' #86b6c99a81434e6fa84ab397642ecf91\n",
    "AZURE_API_VERSION = \"2023-03-15-preview\"\n",
    "\n",
    "client = AzureOpenAI(\n",
    "    azure_endpoint=AZURE_OPENAI_ENDPOINT,\n",
    "    api_key=AZURE_OPENAI_KEY,\n",
    "    api_version=AZURE_API_VERSION\n",
    ")\n"
   ]
  },
  {
   "cell_type": "code",
   "execution_count": 2,
   "id": "b67cf004",
   "metadata": {},
   "outputs": [
    {
     "name": "stdout",
     "output_type": "stream",
     "text": [
      "Text Index Size: 2626\n",
      "Table Index Size: 712\n",
      "Text Metadata Entries: 2626\n",
      "Table Metadata Entries: 712\n"
     ]
    }
   ],
   "source": [
    "import faiss\n",
    "import pickle\n",
    "\n",
    "# Load the FAISS indices\n",
    "text_index = faiss.read_index(\"/Users/zhengyaojin/Desktop/Capstone_1205/text_index.faiss\")\n",
    "table_index = faiss.read_index(\"/Users/zhengyaojin/Desktop/Capstone_1205/table_index.faiss\")\n",
    "\n",
    "# Load the metadata dictionaries\n",
    "with open(\"/Users/zhengyaojin/Desktop/Capstone_1205/text_metadata.pkl\", \"rb\") as f:\n",
    "    text_metadata = pickle.load(f)\n",
    "with open(\"/Users/zhengyaojin/Desktop/Capstone_1205/table_metadata.pkl\", \"rb\") as f:\n",
    "    table_metadata = pickle.load(f)\n",
    "\n",
    "# Verify loaded data\n",
    "print(f\"Text Index Size: {text_index.ntotal}\")\n",
    "print(f\"Table Index Size: {table_index.ntotal}\")\n",
    "print(f\"Text Metadata Entries: {len(text_metadata)}\")\n",
    "print(f\"Table Metadata Entries: {len(table_metadata)}\")\n"
   ]
  },
  {
   "cell_type": "code",
   "execution_count": 3,
   "id": "31cf1e0c",
   "metadata": {
    "id": "31cf1e0c",
    "outputId": "7d463ce9-6bd0-4a3f-8837-a69e4b52ac2e"
   },
   "outputs": [
    {
     "name": "stdout",
     "output_type": "stream",
     "text": [
      "Text FAISS Index Size: 2626\n",
      "Table FAISS Index Size: 712\n",
      "Number of Text Metadata Entries: 2626\n",
      "Number of Table Metadata Entries: 712\n",
      "✅ Text index and metadata are consistent.\n",
      "✅ Table index and metadata are consistent.\n",
      "\n",
      "Sample Text Metadata Entry:\n",
      "Key: 0, Metadata: {'file_name': 'Lyft 2020.pdf', 'content_type': 'text', 'content': 'UNITED STATES\\nSECURITIES AND EXCHANGE COMMISSION\\nWashington, D.C. 20549\\nFORM 10-K\\n \\n(Mark One)\\n☒\\nANNUAL REPORT PURSUANT TO SECTION 13 OR 15(d) OF THE SECURITIES EXCHANGE ACT OF 1934\\nFor the fiscal year ended December 31, 2019\\nOR\\n☐\\nTRANSITION REPORT PURSUANT TO SECTION 13 OR 15(d) OF THE SECURITIES EXCHANGE ACT OF 1934 FOR THE TRANSITION\\nPERIOD FROM                      TO\\nCommission File Number 001-38846\\nLyft, Inc.\\n(Exact name of Registrant as specified in its Charter)\\nDelaware\\n20-8809830\\n(State or other jurisdiction of \\nincorporation or organization)\\n(I.R.S. Employer \\nIdentification No.)\\n185 Berry Street, Suite 5000\\nSan Francisco, California\\n94107\\n(Address of principal executive offices)\\n(Zip Code)\\nRegistrant’s telephone number, including area code: (844) 250-2773\\nSecurities registered pursuant to Section 12(b) of the Act:\\nTitle of each class\\nTrading \\nSymbol(s)\\nName of each exchange on which registered\\nClass A common stock, par value of $0.00001 per share\\nLYFT\\nNasdaq Global Select Market\\nSecurities registered pursuant to Section 12(g) of the Act: None\\nIndicate by check mark if the Registrant is a well-known seasoned issuer, as defined in Rule 405 of the Securities Act. Yes ☐\\xa0No ☒\\nIndicate by check mark if the Registrant is not required to file reports pursuant to Section 13 or 15(d) of the Act.  Yes ☐\\xa0No ☒\\nIndicate by check mark whether the Registrant: (1) has filed all reports required to be filed by Section 13 or 15(d) of the Securities Exchange Act of 1934 during the preceding 12 months (or for\\nsuch shorter period that the Registrant was required to file such reports), and (2) has been subject to such filing requirements for the past 90 days.  Yes ☒\\xa0No ☐\\nIndicate by check mark whether the Registrant has submitted electronically every Interactive Data File required to be submitted pursuant to Rule 405 of Regulation S-T (§232.405 of this\\nchapter) during the preceding 12 months (or for such shorter period that the Registrant was required to submit such files).  Yes ☒\\xa0No ☐\\nIndicate by check mark whether the registrant is a large accelerated filer, an accelerated filer, a non-accelerated filer, smaller reporting company, or an emerging growth company. See the\\ndefinitions of “large accelerated filer,” “accelerated filer,” “smaller reporting company,” and “emerging growth company” in Rule 12b-2 of the Exchange Act.\\nLarge accelerated filer\\n☐\\nAccelerated filer\\n☐\\nNon-accelerated filer\\n☒\\nSmaller reporting company\\n☐\\nEmerging growth company\\n☐\\nIf an emerging growth company, indicate by check mark if the registrant has elected not to use the extended transition period for complying with any new or revised financial accounting\\nstandards provided pursuant to Section 13(a) of the Exchange Act.  ☐\\nIndicate by check mark whether the Registrant is a shell company (as defined in Rule 12b-2 of the Exchange Act).  Yes ☐\\xa0No ☒\\nThe aggregate market value of the Registrant’s common stock held by non-affiliates of the Registrant on June 28, 2019, the last business day of its most recently completed second fiscal quarter,\\nwas $14.1 billion based on the closing sales price of the Registrant’s Class A common stock on that date.\\nOn February 21, 2020, the Registrant had 297,836,880 shares of Class A common stock and 8,802,629 shares of Class B common stock outstanding.\\nDOCUMENTS INCORPORATED BY REFERENCE\\nPortions of the registrant’s Proxy Statement for the 2020 Annual Meeting of Stockholders are incorporated herein by reference in Part III of this Annual Report on Form 10-K to the extent stated\\nherein. Such proxy statement will be filed with the Securities and Exchange Commission within 120 days of the registrant’s fiscal year ended December 31, 2019.\\n'}\n",
      "\n",
      "Sample Table Metadata Entry:\n",
      "Key: 0, Metadata: {'file_name': 'Lyft 2020.pdf', 'content_type': 'table', 'content': 'Consolidated Statements of Operations Data\\nYear Ended December 31,\\n2019\\n2018\\n2017\\n2016\\n(in thousands, except for per share amounts)\\nRevenue\\n$\\n3,615,960  $\\n2,156,616  $\\n1,059,881  $\\n343,298  \\nCosts and expenses(1)\\nCost of revenue\\n2,176,469  \\n1,243,400  \\n659,533  \\n279,011  \\nOperations and support\\n636,116  \\n338,402  \\n183,513  \\n97,880  \\nResearch and development\\n1,505,640  \\n300,836  \\n136,646  \\n64,704  \\nSales and marketing\\n814,122  \\n803,751  \\n567,015  \\n434,344  \\nGeneral and administrative\\n1,186,093  \\n447,938  \\n221,446  \\n159,962  \\nTotal costs and expenses\\n6,318,440  \\n3,134,327  \\n1,768,153  \\n1,035,901  \\nLoss from operations\\n(2,702,480)  \\n(977,711)  \\n(708,272)  \\n(692,603)  \\nInterest income\\n102,506  \\n66,462  \\n20,243  \\n6,964  \\nOther income, net\\n89  \\n652  \\n284  \\n3,246  \\nLoss before income taxes\\n(2,599,885)  \\n(910,597)  \\n(687,745)  \\n(682,393)  \\nProvision for income taxes\\n2,356  \\n738  \\n556  \\n401  \\nNet loss\\n$ (2,602,241)  $\\n(911,335)  $\\n(688,301)  $\\n(682,794)  \\nNet loss per share attributable to common stockholders, basic and diluted\\n$\\n(11.44)  $\\n(43.04)  $\\n(35.53)  $\\n(37.08)  \\nWeighted-average number of shares outstanding used to compute net loss per share\\nattributable to common stockholders, basic and diluted\\n227,498  \\n21,176  \\n19,371  \\n18,413  \\n_______________\\n(1)\\nCosts and expenses include stock-based compensation expense as follows:\\nYear Ended December 31,\\n2019\\n2018\\n2017\\n2016\\n(in thousands)\\nCost of revenue\\n$\\n81,321  $\\n501  $\\n464  $\\n518  \\nOperations and support\\n75,212  \\n177  \\n2,549  \\n1,066  \\nResearch and development\\n971,941  \\n4,107  \\n2,379  \\n2,696  \\nSales and marketing\\n72,046  \\n261  \\n415  \\n974  \\nGeneral and administrative\\n398,791  \\n3,531  \\n3,739  \\n4,140  \\nTotal stock-based compensation expense\\n$\\n1,599,311  $\\n8,577  $\\n9,546  $\\n9,394  \\n56\\n'}\n"
     ]
    }
   ],
   "source": [
    "import faiss\n",
    "import pickle\n",
    "\n",
    "def confirm_faiss_and_metadata():\n",
    "    \"\"\"\n",
    "    Load and confirm FAISS indices and metadata.\n",
    "    \"\"\"\n",
    "    try:\n",
    "        # Load the FAISS indices\n",
    "        text_index = faiss.read_index(\"text_index.faiss\")\n",
    "        table_index = faiss.read_index(\"table_index.faiss\")\n",
    "\n",
    "        # Load the metadata dictionaries\n",
    "        with open(\"text_metadata.pkl\", \"rb\") as f:\n",
    "            text_metadata = pickle.load(f)\n",
    "        with open(\"table_metadata.pkl\", \"rb\") as f:\n",
    "            table_metadata = pickle.load(f)\n",
    "\n",
    "        # Confirm FAISS indices\n",
    "        print(f\"Text FAISS Index Size: {text_index.ntotal}\")\n",
    "        print(f\"Table FAISS Index Size: {table_index.ntotal}\")\n",
    "\n",
    "        # Confirm metadata\n",
    "        print(f\"Number of Text Metadata Entries: {len(text_metadata)}\")\n",
    "        print(f\"Number of Table Metadata Entries: {len(table_metadata)}\")\n",
    "\n",
    "        # Perform a small check to validate stored data\n",
    "        if text_index.ntotal == len(text_metadata):\n",
    "            print(\"✅ Text index and metadata are consistent.\")\n",
    "        else:\n",
    "            print(\"❌ Text index and metadata mismatch!\")\n",
    "\n",
    "        if table_index.ntotal == len(table_metadata):\n",
    "            print(\"✅ Table index and metadata are consistent.\")\n",
    "        else:\n",
    "            print(\"❌ Table index and metadata mismatch!\")\n",
    "\n",
    "        # Print a small sample from each metadata for manual verification\n",
    "        print(\"\\nSample Text Metadata Entry:\")\n",
    "        for key, value in list(text_metadata.items())[:1]:\n",
    "            print(f\"Key: {key}, Metadata: {value}\")\n",
    "\n",
    "        print(\"\\nSample Table Metadata Entry:\")\n",
    "        for key, value in list(table_metadata.items())[:1]:\n",
    "            print(f\"Key: {key}, Metadata: {value}\")\n",
    "\n",
    "    except Exception as e:\n",
    "        print(f\"Error during confirmation: {e}\")\n",
    "\n",
    "# Call the confirmation function\n",
    "confirm_faiss_and_metadata()\n"
   ]
  },
  {
   "cell_type": "markdown",
   "id": "4daea0e2",
   "metadata": {
    "id": "4daea0e2"
   },
   "source": [
    "### Implement Retrieval-Augmented Generation (RAG)"
   ]
  },
  {
   "cell_type": "code",
   "execution_count": 4,
   "id": "d3703401",
   "metadata": {
    "id": "d3703401"
   },
   "outputs": [],
   "source": [
    "def retrieve_relevant_content(query, top_k=15):\n",
    "    \"\"\"\n",
    "    Retrieve relevant content (both text and tables) for the query.\n",
    "    \"\"\"\n",
    "    # Embed the user query\n",
    "    query_response = client.embeddings.create(\n",
    "        input=query,\n",
    "        model=\"text-embedding-3-small\"\n",
    "    )\n",
    "    query_embedding = np.array(query_response.data[0].embedding).astype(\"float32\")\n",
    "\n",
    "    # Search text index\n",
    "    text_distances, text_indices = text_index.search(np.array([query_embedding]), top_k)\n",
    "    text_results = [\n",
    "        f\"- **Text Insight**: {text_metadata[idx]['content']}\"\n",
    "        for idx in text_indices[0] if idx != -1\n",
    "    ]\n",
    "\n",
    "    # Search table index\n",
    "    table_distances, table_indices = table_index.search(np.array([query_embedding]), top_k)\n",
    "    table_results = [\n",
    "        f\"- **Table Data**: {table_metadata[idx]['content']}\"\n",
    "        for idx in table_indices[0] if idx != -1\n",
    "    ]\n",
    "\n",
    "    # Combine text and table results into a single context\n",
    "    combined_results = text_results + table_results\n",
    "    return \"\\n\\n\".join(combined_results)\n"
   ]
  },
  {
   "cell_type": "code",
   "execution_count": 5,
   "id": "b3dcfb78",
   "metadata": {
    "id": "b3dcfb78",
    "scrolled": true
   },
   "outputs": [],
   "source": [
    "import numpy as np\n",
    "\n",
    "def generate_rag_response(user_query):\n",
    "    \"\"\"\n",
    "    Generate a detailed response using RAG by combining text and table data.\n",
    "\n",
    "    Args:\n",
    "        user_query (str): User query.\n",
    "\n",
    "    Returns:\n",
    "        str: Generated response.\n",
    "    \"\"\"\n",
    "    # Retrieve relevant content\n",
    "    context = retrieve_relevant_content(user_query, top_k=15)\n",
    "\n",
    "    # Construct the prompt with explicit instructions\n",
    "    prompt = f\"\"\"\n",
    "    The following context includes text insights and table data extracted from financial documents. Analyze the information and provide a detailed response to the user's query.\n",
    "\n",
    "    Context:\n",
    "    {context}\n",
    "\n",
    "    User Query:\n",
    "    {user_query}\n",
    "\n",
    "    Instructions:\n",
    "    - Combine insights from text and table data.\n",
    "    - Summarize key points and provide numerical trends from tables.\n",
    "    - Draw comparisons and explain implications clearly.\n",
    "    - If possible, provide actionable insights or next steps.\n",
    "    \"\"\"\n",
    "\n",
    "    # Call Azure OpenAI API to generate a response\n",
    "    try:\n",
    "        response = client.chat.completions.create(\n",
    "            model=\"gpt-4o-large\",\n",
    "            messages=[\n",
    "                {\"role\": \"system\", \"content\": \"You are a financial data assistant.\"},\n",
    "                {\"role\": \"user\", \"content\": prompt}\n",
    "            ],\n",
    "            max_tokens=1500,  # Increased token limit for detailed responses\n",
    "            temperature=0.5\n",
    "        )\n",
    "        return response.choices[0].message.content.strip()\n",
    "\n",
    "    except Exception as e:\n",
    "        print(f\"Error: {e}\")\n",
    "        return \"An error occurred while generating the response.\"\n",
    "\n"
   ]
  },
  {
   "cell_type": "markdown",
   "id": "83e8c2ab-aa03-4d9b-926c-c5300afa4dfe",
   "metadata": {
    "id": "83e8c2ab-aa03-4d9b-926c-c5300afa4dfe"
   },
   "source": [
    "### Run RAG queries"
   ]
  },
  {
   "cell_type": "code",
   "execution_count": 6,
   "id": "8299436c-e613-46d6-8726-5eaac2a23350",
   "metadata": {
    "id": "8299436c-e613-46d6-8726-5eaac2a23350",
    "outputId": "ae2bfca7-b443-4747-86b7-8bd08423f8a6"
   },
   "outputs": [
    {
     "name": "stdout",
     "output_type": "stream",
     "text": [
      "\n",
      "RAG Response:\n",
      "In 2023, Uber's total revenue was $37.281 billion, as detailed in the \"Results of Operations\" table for the year ended December 31, 2023. Comparatively, Lyft's total revenue for the same year was $4.404 billion, as shown in the \"Lyft, Inc. Consolidated Statements of Operations\" table.\n",
      "\n",
      "### Key Points and Numerical Trends:\n",
      "1. **Uber's Revenue**:\n",
      "   - Total revenue for 2023: $37.281 billion.\n",
      "   - This represented a 17% increase from the previous year (2022), where the revenue was $31.877 billion.\n",
      "\n",
      "2. **Lyft's Revenue**:\n",
      "   - Total revenue for 2023: $4.404 billion.\n",
      "   - This represented a 7.5% increase from the previous year (2022), where the revenue was $4.095 billion.\n",
      "\n",
      "### Comparison:\n",
      "- **Revenue Scale**: Uber's total revenue in 2023 was significantly higher than Lyft's, with Uber generating approximately 8.5 times more revenue than Lyft.\n",
      "- **Growth Rate**: Uber's revenue growth rate from 2022 to 2023 was 17%, while Lyft's was 7.5%. This indicates that Uber not only had a higher absolute revenue but also experienced a higher growth rate compared to Lyft.\n",
      "\n",
      "### Implications:\n",
      "- **Market Position**: Uber's substantially higher revenue suggests a stronger market position and larger customer base compared to Lyft. This could be attributed to Uber's broader range of services, including Mobility, Delivery, and Freight, which contribute to its revenue.\n",
      "- **Growth Potential**: Despite both companies showing revenue growth, Uber's higher growth rate indicates it may be better positioned to capitalize on market opportunities and expand its services further.\n",
      "\n",
      "### Actionable Insights:\n",
      "1. **For Lyft**:\n",
      "   - **Diversification**: Lyft could explore diversifying its service offerings to capture more market segments, similar to Uber's approach with its Delivery and Freight services.\n",
      "   - **Strategic Investments**: Investing in new technologies and partnerships, such as autonomous vehicles or international expansion, could help Lyft increase its revenue growth rate.\n",
      "\n",
      "2. **For Uber**:\n",
      "   - **Sustain Growth**: Uber should continue to leverage its diverse service portfolio and invest in areas showing high growth potential, such as Freight and international markets.\n",
      "   - **Operational Efficiency**: Focusing on operational efficiencies and cost management could further enhance profitability given the substantial revenue base.\n",
      "\n",
      "### Next Steps:\n",
      "- **Market Analysis**: Both companies should conduct detailed market analysis to identify new growth opportunities and competitive threats.\n",
      "- **Customer Engagement**: Enhancing customer engagement through loyalty programs and improved user experiences could drive higher usage and retention rates.\n",
      "- **Technological Innovation**: Continued investment in technology, such as AI and machine learning, to optimize operations and provide innovative services.\n",
      "\n",
      "By addressing these areas, both Uber and Lyft can strengthen their market positions and drive future growth.\n"
     ]
    }
   ],
   "source": [
    "# Example user query\n",
    "# user_query = \"What was Uber's total revenue in 2023, and how does it compare to their expenses?\"\n",
    "# user_query = \"What was United's total revenue in 2023, and how does it compare to their expenses?\"\n",
    "# user_query = \"What was Lyft's total revenue in 2023, and how does it compare to their expenses?\"\n",
    "user_query = \"What was Uber's total revenue in 2023, and how does it compare to Lyft 2023 total revenue?\"\n",
    "\n",
    "# Generate the RAG response\n",
    "response = generate_rag_response(user_query)\n",
    "\n",
    "# Display the response\n",
    "print(f\"\\nRAG Response:\\n{response}\")"
   ]
  },
  {
   "cell_type": "code",
   "execution_count": null,
   "id": "28d83a84-c84f-4f73-b46b-1034658f5d2d",
   "metadata": {
    "id": "28d83a84-c84f-4f73-b46b-1034658f5d2d"
   },
   "outputs": [],
   "source": [
    "import streamlit as st\n",
    "\n",
    "# App Title and Description\n",
    "st.title(\"10-K Analysis and Question Answering\")\n",
    "st.write(\"\"\"\n",
    "A system to process and analyze Lyft's 10-K filings and answer questions related to financial metrics, cost structure, and ride volume.\n",
    "\"\"\")\n",
    "\n",
    "# Question Input Section\n",
    "st.header(\"Ask a Question\")\n",
    "user_question = st.text_input(\"Enter your question here:\")\n",
    "\n",
    "# Submit Button Logic\n",
    "if st.button(\"Submit Question\"):\n",
    "    if not user_question:\n",
    "        st.error(\"Please enter a question.\")\n",
    "    else:\n",
    "        st.info(\"Processing your query...\")\n",
    "        try:\n",
    "            # Retrieve relevant content (you need to define `retrieve_relevant_sections`)\n",
    "            retrieved_texts, retrieved_tables = retrieve_relevant_sections(\n",
    "                user_question, text_index, text_metadata, table_index, table_metadata\n",
    "            )\n",
    "            \n",
    "            # Combine retrieved content\n",
    "            context = \" \".join(retrieved_texts)  # Adjust combination logic if needed\n",
    "            \n",
    "            # Generate response (ensure your model is loaded and functional)\n",
    "            if model:\n",
    "                response = model(f\"Question: {user_question} Context: {context}\")\n",
    "                st.subheader(\"Response\")\n",
    "                st.write(response[0]['generated_text'])\n",
    "            else:\n",
    "                st.error(\"RAG model not loaded. Check your setup.\")\n",
    "        except Exception as e:\n",
    "            st.error(f\"Error during query processing: {e}\")\n",
    "\n",
    "# Footer\n",
    "st.write(\"---\")\n",
    "st.write(\"Developed for Lyft's 10-K financial analysis.\")\n"
   ]
  }
 ],
 "metadata": {
  "colab": {
   "provenance": []
  },
  "kernelspec": {
   "display_name": "Python 3 (ipykernel)",
   "language": "python",
   "name": "python3"
  },
  "language_info": {
   "codemirror_mode": {
    "name": "ipython",
    "version": 3
   },
   "file_extension": ".py",
   "mimetype": "text/x-python",
   "name": "python",
   "nbconvert_exporter": "python",
   "pygments_lexer": "ipython3",
   "version": "3.10.9"
  }
 },
 "nbformat": 4,
 "nbformat_minor": 5
}
