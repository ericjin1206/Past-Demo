{
 "cells": [
  {
   "cell_type": "markdown",
   "id": "59cfa154",
   "metadata": {},
   "source": [
    "## Problem Set 1"
   ]
  },
  {
   "cell_type": "code",
   "execution_count": 18,
   "id": "753a7e23",
   "metadata": {},
   "outputs": [],
   "source": [
    "import pandas as pd\n",
    "import matplotlib.pyplot as plt\n",
    "import numpy as np\n",
    "import statsmodels.api as sm\n",
    "import statsmodels.formula.api as smf"
   ]
  },
  {
   "cell_type": "code",
   "execution_count": 19,
   "id": "cbecf030",
   "metadata": {},
   "outputs": [
    {
     "data": {
      "text/html": [
       "<div>\n",
       "<style scoped>\n",
       "    .dataframe tbody tr th:only-of-type {\n",
       "        vertical-align: middle;\n",
       "    }\n",
       "\n",
       "    .dataframe tbody tr th {\n",
       "        vertical-align: top;\n",
       "    }\n",
       "\n",
       "    .dataframe thead th {\n",
       "        text-align: right;\n",
       "    }\n",
       "</style>\n",
       "<table border=\"1\" class=\"dataframe\">\n",
       "  <thead>\n",
       "    <tr style=\"text-align: right;\">\n",
       "      <th></th>\n",
       "      <th>donation_amount</th>\n",
       "      <th>donation_dummy</th>\n",
       "      <th>control</th>\n",
       "      <th>treatment</th>\n",
       "      <th>match_ratio</th>\n",
       "      <th>ratio1</th>\n",
       "      <th>ratio2</th>\n",
       "      <th>ratio3</th>\n",
       "      <th>red_state_dummy</th>\n",
       "      <th>months_since_last_donation</th>\n",
       "      <th>highest_previous_donation</th>\n",
       "      <th>prior_donations_num</th>\n",
       "    </tr>\n",
       "  </thead>\n",
       "  <tbody>\n",
       "    <tr>\n",
       "      <th>count</th>\n",
       "      <td>50083.000000</td>\n",
       "      <td>50083.000000</td>\n",
       "      <td>50083.000000</td>\n",
       "      <td>50083.000000</td>\n",
       "      <td>50083.000000</td>\n",
       "      <td>50130.000000</td>\n",
       "      <td>50083.000000</td>\n",
       "      <td>50083.000000</td>\n",
       "      <td>50048.000000</td>\n",
       "      <td>50082.000000</td>\n",
       "      <td>50083.000000</td>\n",
       "      <td>50083.000000</td>\n",
       "    </tr>\n",
       "    <tr>\n",
       "      <th>mean</th>\n",
       "      <td>0.915694</td>\n",
       "      <td>0.020646</td>\n",
       "      <td>0.333187</td>\n",
       "      <td>0.666813</td>\n",
       "      <td>1.333546</td>\n",
       "      <td>0.222083</td>\n",
       "      <td>0.222311</td>\n",
       "      <td>0.222211</td>\n",
       "      <td>0.404452</td>\n",
       "      <td>13.007268</td>\n",
       "      <td>59.384977</td>\n",
       "      <td>8.039355</td>\n",
       "    </tr>\n",
       "    <tr>\n",
       "      <th>std</th>\n",
       "      <td>8.709199</td>\n",
       "      <td>0.142197</td>\n",
       "      <td>0.471357</td>\n",
       "      <td>0.471357</td>\n",
       "      <td>1.154606</td>\n",
       "      <td>0.415651</td>\n",
       "      <td>0.415803</td>\n",
       "      <td>0.415736</td>\n",
       "      <td>0.490791</td>\n",
       "      <td>12.081403</td>\n",
       "      <td>71.177310</td>\n",
       "      <td>11.394454</td>\n",
       "    </tr>\n",
       "    <tr>\n",
       "      <th>min</th>\n",
       "      <td>0.000000</td>\n",
       "      <td>0.000000</td>\n",
       "      <td>0.000000</td>\n",
       "      <td>0.000000</td>\n",
       "      <td>0.000000</td>\n",
       "      <td>0.000000</td>\n",
       "      <td>0.000000</td>\n",
       "      <td>0.000000</td>\n",
       "      <td>0.000000</td>\n",
       "      <td>0.000000</td>\n",
       "      <td>0.000000</td>\n",
       "      <td>0.000000</td>\n",
       "    </tr>\n",
       "    <tr>\n",
       "      <th>25%</th>\n",
       "      <td>0.000000</td>\n",
       "      <td>0.000000</td>\n",
       "      <td>0.000000</td>\n",
       "      <td>0.000000</td>\n",
       "      <td>0.000000</td>\n",
       "      <td>0.000000</td>\n",
       "      <td>0.000000</td>\n",
       "      <td>0.000000</td>\n",
       "      <td>0.000000</td>\n",
       "      <td>4.000000</td>\n",
       "      <td>30.000000</td>\n",
       "      <td>2.000000</td>\n",
       "    </tr>\n",
       "    <tr>\n",
       "      <th>50%</th>\n",
       "      <td>0.000000</td>\n",
       "      <td>0.000000</td>\n",
       "      <td>0.000000</td>\n",
       "      <td>1.000000</td>\n",
       "      <td>1.000000</td>\n",
       "      <td>0.000000</td>\n",
       "      <td>0.000000</td>\n",
       "      <td>0.000000</td>\n",
       "      <td>0.000000</td>\n",
       "      <td>8.000000</td>\n",
       "      <td>45.000000</td>\n",
       "      <td>4.000000</td>\n",
       "    </tr>\n",
       "    <tr>\n",
       "      <th>75%</th>\n",
       "      <td>0.000000</td>\n",
       "      <td>0.000000</td>\n",
       "      <td>1.000000</td>\n",
       "      <td>1.000000</td>\n",
       "      <td>2.000000</td>\n",
       "      <td>0.000000</td>\n",
       "      <td>0.000000</td>\n",
       "      <td>0.000000</td>\n",
       "      <td>1.000000</td>\n",
       "      <td>19.000000</td>\n",
       "      <td>60.000000</td>\n",
       "      <td>10.000000</td>\n",
       "    </tr>\n",
       "    <tr>\n",
       "      <th>max</th>\n",
       "      <td>400.000000</td>\n",
       "      <td>1.000000</td>\n",
       "      <td>1.000000</td>\n",
       "      <td>1.000000</td>\n",
       "      <td>3.000000</td>\n",
       "      <td>1.000000</td>\n",
       "      <td>1.000000</td>\n",
       "      <td>1.000000</td>\n",
       "      <td>1.000000</td>\n",
       "      <td>168.000000</td>\n",
       "      <td>1000.000000</td>\n",
       "      <td>218.000000</td>\n",
       "    </tr>\n",
       "  </tbody>\n",
       "</table>\n",
       "</div>"
      ],
      "text/plain": [
       "       donation_amount  donation_dummy       control     treatment  \\\n",
       "count     50083.000000    50083.000000  50083.000000  50083.000000   \n",
       "mean          0.915694        0.020646      0.333187      0.666813   \n",
       "std           8.709199        0.142197      0.471357      0.471357   \n",
       "min           0.000000        0.000000      0.000000      0.000000   \n",
       "25%           0.000000        0.000000      0.000000      0.000000   \n",
       "50%           0.000000        0.000000      0.000000      1.000000   \n",
       "75%           0.000000        0.000000      1.000000      1.000000   \n",
       "max         400.000000        1.000000      1.000000      1.000000   \n",
       "\n",
       "        match_ratio        ratio1        ratio2        ratio3  \\\n",
       "count  50083.000000  50130.000000  50083.000000  50083.000000   \n",
       "mean       1.333546      0.222083      0.222311      0.222211   \n",
       "std        1.154606      0.415651      0.415803      0.415736   \n",
       "min        0.000000      0.000000      0.000000      0.000000   \n",
       "25%        0.000000      0.000000      0.000000      0.000000   \n",
       "50%        1.000000      0.000000      0.000000      0.000000   \n",
       "75%        2.000000      0.000000      0.000000      0.000000   \n",
       "max        3.000000      1.000000      1.000000      1.000000   \n",
       "\n",
       "       red_state_dummy  months_since_last_donation  highest_previous_donation  \\\n",
       "count     50048.000000                50082.000000               50083.000000   \n",
       "mean          0.404452                   13.007268                  59.384977   \n",
       "std           0.490791                   12.081403                  71.177310   \n",
       "min           0.000000                    0.000000                   0.000000   \n",
       "25%           0.000000                    4.000000                  30.000000   \n",
       "50%           0.000000                    8.000000                  45.000000   \n",
       "75%           1.000000                   19.000000                  60.000000   \n",
       "max           1.000000                  168.000000                1000.000000   \n",
       "\n",
       "       prior_donations_num  \n",
       "count         50083.000000  \n",
       "mean              8.039355  \n",
       "std              11.394454  \n",
       "min               0.000000  \n",
       "25%               2.000000  \n",
       "50%               4.000000  \n",
       "75%              10.000000  \n",
       "max             218.000000  "
      ]
     },
     "execution_count": 19,
     "metadata": {},
     "output_type": "execute_result"
    }
   ],
   "source": [
    "#1a\n",
    "df = pd.read_csv(\"/Users/zhengyaojin/Desktop/charitable_giving.csv\")\n",
    "df.describe()"
   ]
  },
  {
   "cell_type": "code",
   "execution_count": 42,
   "id": "76d2339c",
   "metadata": {},
   "outputs": [
    {
     "name": "stdout",
     "output_type": "stream",
     "text": [
      "                                OLS Regression Results                                \n",
      "======================================================================================\n",
      "Dep. Variable:     months_since_last_donation   R-squared:                       0.000\n",
      "Model:                                    OLS   Adj. R-squared:                 -0.000\n",
      "Method:                         Least Squares   F-statistic:                   0.01428\n",
      "Date:                        Sat, 27 Jan 2024   Prob (F-statistic):              0.905\n",
      "Time:                                16:27:53   Log-Likelihood:            -1.9585e+05\n",
      "No. Observations:                       50082   AIC:                         3.917e+05\n",
      "Df Residuals:                           50080   BIC:                         3.917e+05\n",
      "Df Model:                                   1                                         \n",
      "Covariance Type:                    nonrobust                                         \n",
      "==============================================================================\n",
      "                 coef    std err          t      P>|t|      [0.025      0.975]\n",
      "------------------------------------------------------------------------------\n",
      "const         12.9981      0.094    138.979      0.000      12.815      13.181\n",
      "treatment      0.0137      0.115      0.119      0.905      -0.211       0.238\n",
      "==============================================================================\n",
      "Omnibus:                     8031.352   Durbin-Watson:                   1.714\n",
      "Prob(Omnibus):                  0.000   Jarque-Bera (JB):            12471.135\n",
      "Skew:                           1.163   Prob(JB):                         0.00\n",
      "Kurtosis:                       3.751   Cond. No.                         3.23\n",
      "==============================================================================\n",
      "\n",
      "Notes:\n",
      "[1] Standard Errors assume that the covariance matrix of the errors is correctly specified.\n"
     ]
    }
   ],
   "source": [
    "df.dropna(subset=['months_since_last_donation'], inplace=True)\n",
    "X = df['treatment']\n",
    "X = sm.add_constant(X)\n",
    "y = df['months_since_last_donation']\n",
    "model = sm.OLS(y, X)\n",
    "result = model.fit()\n",
    "print(result.summary())"
   ]
  },
  {
   "cell_type": "markdown",
   "id": "104f6d99",
   "metadata": {},
   "source": [
    "Intrepretation: For individuals who are in the treatment group (treatment = 1), there is an average of 12.998 + 0.014 = 13.012 months since the last donation. For individuals who are in the control group (control = 1), there is an estimated average of 12.998 months since the last donation.\n"
   ]
  },
  {
   "cell_type": "markdown",
   "id": "a5af315c",
   "metadata": {},
   "source": [
    "The coefficients in the summary output above align with the group-specific means reported in Table 1 of the paper. "
   ]
  },
  {
   "cell_type": "markdown",
   "id": "c7e3db6d",
   "metadata": {},
   "source": [
    "1(b): Since the p-value for the treatment coefficient is 0.905 and we are testing the significance at the 95% confidence level, we fail to reject the null hypothesis that there's no difference in number of month since last donation between treatment and control as 0.905 is clearly bigger than 0.05. Hence, it is not statisically significant. The result is expected because it indicates that the pattern of contribution between two groups are roughly the same, showing that the randomization procedure is done correctly. This would add credibility to the experimental results since there is no such bias like historical contribution pattern existed. "
   ]
  },
  {
   "cell_type": "markdown",
   "id": "0788d6f6",
   "metadata": {},
   "source": [
    "1(c). Table 1 shows that the values between control and treatment regarding some metrics like member activity, census demographic, and state and country organizational activity are all very similar to each other. This may well indicate that the experiment took into account the difference between different people demogrpahics and nation wide demogrpahics and use randomization to establish comparable and less-biased treatment and control group. "
   ]
  },
  {
   "cell_type": "code",
   "execution_count": 34,
   "id": "3eb9b53c",
   "metadata": {},
   "outputs": [
    {
     "name": "stdout",
     "output_type": "stream",
     "text": [
      "                            OLS Regression Results                            \n",
      "==============================================================================\n",
      "Dep. Variable:         donation_dummy   R-squared:                       0.000\n",
      "Model:                            OLS   Adj. R-squared:                  0.000\n",
      "Method:                 Least Squares   F-statistic:                     9.621\n",
      "Date:                Sat, 27 Jan 2024   Prob (F-statistic):            0.00192\n",
      "Time:                        15:05:56   Log-Likelihood:                 26629.\n",
      "No. Observations:               50082   AIC:                        -5.325e+04\n",
      "Df Residuals:                   50080   BIC:                        -5.324e+04\n",
      "Df Model:                           1                                         \n",
      "Covariance Type:            nonrobust                                         \n",
      "==============================================================================\n",
      "                 coef    std err          t      P>|t|      [0.025      0.975]\n",
      "------------------------------------------------------------------------------\n",
      "const          0.0179      0.001     16.224      0.000       0.016       0.020\n",
      "treatment      0.0042      0.001      3.102      0.002       0.002       0.007\n",
      "==============================================================================\n",
      "Omnibus:                    59812.651   Durbin-Watson:                   1.997\n",
      "Prob(Omnibus):                  0.000   Jarque-Bera (JB):          4316882.272\n",
      "Skew:                           6.740   Prob(JB):                         0.00\n",
      "Kurtosis:                      46.440   Cond. No.                         3.23\n",
      "==============================================================================\n",
      "\n",
      "Notes:\n",
      "[1] Standard Errors assume that the covariance matrix of the errors is correctly specified.\n"
     ]
    }
   ],
   "source": [
    "#2a\n",
    "X_1 = df['treatment']\n",
    "X_1 = sm.add_constant(X_1)\n",
    "y_1 = df['donation_dummy']\n",
    "model_1 = sm.OLS(y_1, X_1).fit()\n",
    "print(model_1.summary())"
   ]
  },
  {
   "cell_type": "markdown",
   "id": "b1f3eb49",
   "metadata": {},
   "source": [
    "Individuals who are in the treatment group are estimated to have 0.0042 higher likelihood of making a donation than individuals who are in the control group, holding all other variables constant. Individuals who are in the control group are estimated to have 0.018 likelihood of making a donation. These align with the results in the paper (control 0.018, treatment 0.022). "
   ]
  },
  {
   "cell_type": "code",
   "execution_count": 35,
   "id": "14f6b75a",
   "metadata": {},
   "outputs": [
    {
     "name": "stdout",
     "output_type": "stream",
     "text": [
      "                            OLS Regression Results                            \n",
      "==============================================================================\n",
      "Dep. Variable:         donation_dummy   R-squared:                       0.000\n",
      "Model:                            OLS   Adj. R-squared:                  0.000\n",
      "Method:                 Least Squares   F-statistic:                     3.666\n",
      "Date:                Sat, 27 Jan 2024   Prob (F-statistic):             0.0117\n",
      "Time:                        15:08:47   Log-Likelihood:                 26629.\n",
      "No. Observations:               50082   AIC:                        -5.325e+04\n",
      "Df Residuals:                   50078   BIC:                        -5.322e+04\n",
      "Df Model:                           3                                         \n",
      "Covariance Type:            nonrobust                                         \n",
      "==============================================================================\n",
      "                 coef    std err          t      P>|t|      [0.025      0.975]\n",
      "------------------------------------------------------------------------------\n",
      "const          0.0179      0.001     16.224      0.000       0.016       0.020\n",
      "ratio1         0.0029      0.002      1.661      0.097      -0.001       0.006\n",
      "ratio2         0.0048      0.002      2.746      0.006       0.001       0.008\n",
      "ratio3         0.0049      0.002      2.802      0.005       0.001       0.008\n",
      "==============================================================================\n",
      "Omnibus:                    59811.123   Durbin-Watson:                   1.997\n",
      "Prob(Omnibus):                  0.000   Jarque-Bera (JB):          4316422.352\n",
      "Skew:                           6.740   Prob(JB):                         0.00\n",
      "Kurtosis:                      46.437   Cond. No.                         4.26\n",
      "==============================================================================\n",
      "\n",
      "Notes:\n",
      "[1] Standard Errors assume that the covariance matrix of the errors is correctly specified.\n"
     ]
    }
   ],
   "source": [
    "#2b\n",
    "X_2 = df[['ratio1', 'ratio2','ratio3']]\n",
    "X_2 = sm.add_constant(X_2)\n",
    "y_2 = df['donation_dummy']\n",
    "model_2 = sm.OLS(y_2, X_2).fit()\n",
    "print(model_2.summary())"
   ]
  },
  {
   "cell_type": "markdown",
   "id": "d4210d49",
   "metadata": {},
   "source": [
    "With 0 matching, which is the intercept and control group in this case, people have 1.79 percent likelihood of responding to the donation. \n",
    "With 1:1 matching, people have 0.29 percent more likelihood of responding to the donation than with 0 matching. \n",
    "With 2:1 matching, people have 0.48 percent more likelihood of responding to the donation than with 0 matching.\n",
    "With 3:1 matching, people have 0.49 percent more likelihood of responding to the donation than with 0 matching."
   ]
  },
  {
   "cell_type": "markdown",
   "id": "63f3f1e1",
   "metadata": {},
   "source": [
    "2(c): 0.0048 - 0.0029 = 0.0019."
   ]
  },
  {
   "cell_type": "markdown",
   "id": "f6b1e440",
   "metadata": {},
   "source": [
    "2(d): Having the donation matching offer will increase people's likelihood of making the donation. However, increasing the matching rate (from 1:1 to 2:1 to 3:1) does not induce a significant increase in people people's likelihood of making the donation, but we can still conclude that matching donations is useful in soliciting people to donate and greater matching ratio may still result in higher response rate (increase from intercept to ratio1 to ratio2 to ratio3). "
   ]
  },
  {
   "cell_type": "code",
   "execution_count": 36,
   "id": "d736a528",
   "metadata": {},
   "outputs": [
    {
     "name": "stdout",
     "output_type": "stream",
     "text": [
      "                            OLS Regression Results                            \n",
      "==============================================================================\n",
      "Dep. Variable:         donation_dummy   R-squared:                       0.000\n",
      "Model:                            OLS   Adj. R-squared:                 -0.000\n",
      "Method:                 Least Squares   F-statistic:                    0.3567\n",
      "Date:                Sat, 27 Jan 2024   Prob (F-statistic):              0.550\n",
      "Time:                        15:22:09   Log-Likelihood:                 15783.\n",
      "No. Observations:               29806   AIC:                        -3.156e+04\n",
      "Df Residuals:                   29804   BIC:                        -3.155e+04\n",
      "Df Model:                           1                                         \n",
      "Covariance Type:            nonrobust                                         \n",
      "==============================================================================\n",
      "                 coef    std err          t      P>|t|      [0.025      0.975]\n",
      "------------------------------------------------------------------------------\n",
      "const          0.0200      0.001     14.085      0.000       0.017       0.023\n",
      "treatment      0.0010      0.002      0.597      0.550      -0.002       0.004\n",
      "==============================================================================\n",
      "Omnibus:                    35568.600   Durbin-Watson:                   1.996\n",
      "Prob(Omnibus):                  0.000   Jarque-Bera (JB):          2547856.644\n",
      "Skew:                           6.727   Prob(JB):                         0.00\n",
      "Kurtosis:                      46.250   Cond. No.                         3.21\n",
      "==============================================================================\n",
      "\n",
      "Notes:\n",
      "[1] Standard Errors assume that the covariance matrix of the errors is correctly specified.\n"
     ]
    }
   ],
   "source": [
    "#3a\n",
    "blue_states_df = df[df['red_state_dummy'] == 0]\n",
    "red_states_df = df[df['red_state_dummy'] == 1]\n",
    "\n",
    "X_blue = blue_states_df['treatment']\n",
    "X_blue = sm.add_constant(X_blue)\n",
    "y_blue = blue_states_df['donation_dummy']\n",
    "model_blue = sm.OLS(y_blue, X_blue).fit()\n",
    "print(model_blue.summary())"
   ]
  },
  {
   "cell_type": "code",
   "execution_count": 37,
   "id": "c234ed0b",
   "metadata": {},
   "outputs": [
    {
     "name": "stdout",
     "output_type": "stream",
     "text": [
      "                            OLS Regression Results                            \n",
      "==============================================================================\n",
      "Dep. Variable:         donation_dummy   R-squared:                       0.001\n",
      "Model:                            OLS   Adj. R-squared:                  0.001\n",
      "Method:                 Least Squares   F-statistic:                     17.24\n",
      "Date:                Sat, 27 Jan 2024   Prob (F-statistic):           3.30e-05\n",
      "Time:                        15:22:51   Log-Likelihood:                 10838.\n",
      "No. Observations:               20241   AIC:                        -2.167e+04\n",
      "Df Residuals:                   20239   BIC:                        -2.166e+04\n",
      "Df Model:                           1                                         \n",
      "Covariance Type:            nonrobust                                         \n",
      "==============================================================================\n",
      "                 coef    std err          t      P>|t|      [0.025      0.975]\n",
      "------------------------------------------------------------------------------\n",
      "const          0.0146      0.002      8.398      0.000       0.011       0.018\n",
      "treatment      0.0088      0.002      4.152      0.000       0.005       0.013\n",
      "==============================================================================\n",
      "Omnibus:                    24249.707   Durbin-Watson:                   2.002\n",
      "Prob(Omnibus):                  0.000   Jarque-Bera (JB):          1766074.187\n",
      "Skew:                           6.758   Prob(JB):                         0.00\n",
      "Kurtosis:                      46.719   Cond. No.                         3.25\n",
      "==============================================================================\n",
      "\n",
      "Notes:\n",
      "[1] Standard Errors assume that the covariance matrix of the errors is correctly specified.\n"
     ]
    }
   ],
   "source": [
    "X_red = red_states_df['treatment']\n",
    "X_red = sm.add_constant(X_red)\n",
    "y_red = red_states_df['donation_dummy']\n",
    "model_red = sm.OLS(y_red, X_red).fit()\n",
    "print(model_red.summary())"
   ]
  },
  {
   "cell_type": "markdown",
   "id": "9cdfcbc7",
   "metadata": {},
   "source": [
    "Interpretation: For blue states, the intercept B0 is 0.02, which means that without any treatment, 2 percent of the control group will donate. B1 means that having the matching offer will increase people's likellihood of making the donation by 0.001 or 0.1 percent. For red states, the intercept B0 indicates that 1.46% of the control group will donate. Having the matching offer will increase people's likellihood of making the donation by 0.0088 or 0.88 percent. Hence, It seems to be more effective in the red state as the coefficient is larger, as the coefficnet for treatment associated with red states is statistically significant.  "
   ]
  },
  {
   "cell_type": "markdown",
   "id": "15059dba",
   "metadata": {},
   "source": [
    "3(b). The treatment coefficient does not have a causal interpretation in each of the two regressions. The difference in the treatment effect between states does not have a causal interpretation since it is not randomly assigned. "
   ]
  },
  {
   "cell_type": "code",
   "execution_count": 40,
   "id": "bcaa2b1f",
   "metadata": {},
   "outputs": [
    {
     "name": "stdout",
     "output_type": "stream",
     "text": [
      "                            OLS Regression Results                            \n",
      "==============================================================================\n",
      "Dep. Variable:        donation_amount   R-squared:                       0.000\n",
      "Model:                            OLS   Adj. R-squared:                  0.000\n",
      "Method:                 Least Squares   F-statistic:                     3.463\n",
      "Date:                Sat, 27 Jan 2024   Prob (F-statistic):             0.0628\n",
      "Time:                        15:51:17   Log-Likelihood:            -1.7946e+05\n",
      "No. Observations:               50082   AIC:                         3.589e+05\n",
      "Df Residuals:                   50080   BIC:                         3.589e+05\n",
      "Df Model:                           1                                         \n",
      "Covariance Type:            nonrobust                                         \n",
      "==============================================================================\n",
      "                 coef    std err          t      P>|t|      [0.025      0.975]\n",
      "------------------------------------------------------------------------------\n",
      "const          0.8133      0.067     12.063      0.000       0.681       0.945\n",
      "treatment      0.1536      0.083      1.861      0.063      -0.008       0.315\n",
      "==============================================================================\n",
      "Omnibus:                    96858.715   Durbin-Watson:                   1.987\n",
      "Prob(Omnibus):                  0.000   Jarque-Bera (JB):        240721274.357\n",
      "Skew:                          15.296   Prob(JB):                         0.00\n",
      "Kurtosis:                     341.262   Cond. No.                         3.23\n",
      "==============================================================================\n",
      "\n",
      "Notes:\n",
      "[1] Standard Errors assume that the covariance matrix of the errors is correctly specified.\n"
     ]
    }
   ],
   "source": [
    "#4a\n",
    "X_4 = df['treatment']\n",
    "X_4 = sm.add_constant(X_4)\n",
    "y_4 = df['donation_amount']\n",
    "model_4 = sm.OLS(y_4, X_4).fit()\n",
    "print(model_4.summary())"
   ]
  },
  {
   "cell_type": "markdown",
   "id": "88f80e5d",
   "metadata": {},
   "source": [
    "Interpretation: B0 is 0.813, which means that for people without treatment(control), they are expected to donate 0.813 dollar. B1 = 0.154, indicating that making the matching offer will increase the amount of contribution by 0.154 dollar. The treatment coefficient does not have a causal interpretation as there could be situations where there's no correlation between the two variables since it contains zero in the interval with 95% confidence interval (-0.008, 0.315). "
   ]
  },
  {
   "cell_type": "code",
   "execution_count": 41,
   "id": "d3aad792",
   "metadata": {},
   "outputs": [
    {
     "name": "stdout",
     "output_type": "stream",
     "text": [
      "                            OLS Regression Results                            \n",
      "==============================================================================\n",
      "Dep. Variable:        donation_amount   R-squared:                       0.000\n",
      "Model:                            OLS   Adj. R-squared:                 -0.001\n",
      "Method:                 Least Squares   F-statistic:                    0.3374\n",
      "Date:                Sat, 27 Jan 2024   Prob (F-statistic):              0.561\n",
      "Time:                        15:56:01   Log-Likelihood:                -5326.8\n",
      "No. Observations:                1034   AIC:                         1.066e+04\n",
      "Df Residuals:                    1032   BIC:                         1.067e+04\n",
      "Df Model:                           1                                         \n",
      "Covariance Type:            nonrobust                                         \n",
      "==============================================================================\n",
      "                 coef    std err          t      P>|t|      [0.025      0.975]\n",
      "------------------------------------------------------------------------------\n",
      "const         45.5403      2.423     18.792      0.000      40.785      50.296\n",
      "treatment     -1.6684      2.872     -0.581      0.561      -7.305       3.968\n",
      "==============================================================================\n",
      "Omnibus:                      587.258   Durbin-Watson:                   1.838\n",
      "Prob(Omnibus):                  0.000   Jarque-Bera (JB):             5623.279\n",
      "Skew:                           2.464   Prob(JB):                         0.00\n",
      "Kurtosis:                      13.307   Cond. No.                         3.49\n",
      "==============================================================================\n",
      "\n",
      "Notes:\n",
      "[1] Standard Errors assume that the covariance matrix of the errors is correctly specified.\n"
     ]
    }
   ],
   "source": [
    "#4b\n",
    "donation_df = df[df['donation_dummy'] == 1]\n",
    "X_5 = donation_df['treatment']\n",
    "X_5 = sm.add_constant(X_5)\n",
    "y_5 = donation_df['donation_amount']\n",
    "model_5 = sm.OLS(y_5, X_5).fit()\n",
    "print(model_5.summary())\n"
   ]
  },
  {
   "cell_type": "markdown",
   "id": "b4ae675c",
   "metadata": {},
   "source": [
    "B0 indicates that people are expected to donate 45.54 dollar for those who are willing to contribute. B1 indicates that for those who are willing to contribute some positive amount, having the matching offer will decrease the amount of contribution by $1.668. The treatment coefficient does not have a causal interpretation. "
   ]
  }
 ],
 "metadata": {
  "kernelspec": {
   "display_name": "Python 3 (ipykernel)",
   "language": "python",
   "name": "python3"
  },
  "language_info": {
   "codemirror_mode": {
    "name": "ipython",
    "version": 3
   },
   "file_extension": ".py",
   "mimetype": "text/x-python",
   "name": "python",
   "nbconvert_exporter": "python",
   "pygments_lexer": "ipython3",
   "version": "3.10.9"
  }
 },
 "nbformat": 4,
 "nbformat_minor": 5
}
